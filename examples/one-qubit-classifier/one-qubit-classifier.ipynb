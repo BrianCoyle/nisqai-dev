{
 "cells": [
  {
   "cell_type": "markdown",
   "metadata": {},
   "source": [
    "# <p style=\"text-align: center;\"> NISQAI: One-Qubit Quantum Classifier </p> \n",
    "<p style=\"text-align: center;\"> Ryan LaRose, Yousif Almulla, Nic Ezzell, Joe Iosue, Arkin Tikku </p>"
   ]
  },
  {
   "cell_type": "markdown",
   "metadata": {},
   "source": [
    "<blockquote cite=\"\">\n",
    "\"Quantum computing needs more quantum software engineers to implement, test, and optimize quantum algorithms.\"\n",
    "    -- Matthias Troyer.\n",
    "</blockquote>\n",
    "\n",
    "<blockquote cite=\"\">\n",
    "\"Experimentation on quantum testbeds is needed.\" -- John Preskill.\n",
    "</blockquote>"
   ]
  },
  {
   "cell_type": "markdown",
   "metadata": {},
   "source": [
    "![Header image, quantum circuits over a neural network.](./header.png)"
   ]
  },
  {
   "cell_type": "markdown",
   "metadata": {},
   "source": [
    "# <p style=\"text-align: center;\"> What is NISQAI? </p> "
   ]
  },
  {
   "cell_type": "markdown",
   "metadata": {},
   "source": [
    "Quantum machine learning is an exciting but conjectural field that lacks testing on quantum computers. NISQAI is a library written to facilitate research in artificial intelligence on current quantum computers and NISQ (noisy intermediate-scale quantum) devices. \n",
    "\n",
    "In this notebook, we demonstrate the steps toward a quantum neural network working as a simple classifier. We then demonstrate how easily the NISQAI library can facilitate this task."
   ]
  },
  {
   "cell_type": "markdown",
   "metadata": {},
   "source": [
    "# <p style=\"text-align: center;\"> Requirements for this Notebook </p> "
   ]
  },
  {
   "cell_type": "markdown",
   "metadata": {},
   "source": [
    "Since you're reading this, you probably have a working installation of [Python](https://www.python.org/) and/or [Jupyter](http://jupyter.org/). In order to run this notebook, the following external packages are necessary. Installation instructions can be found by following the hyperlinks for each.\n",
    "\n",
    "* [NumPy](http://www.numpy.org/)\n",
    "* [SciPy](https://www.scipy.org/)\n",
    "* [pyQuil](https://pyquil.readthedocs.io/en/stable/) 2.1.0\n",
    "* [Matplotlib](https://matplotlib.org/)\n",
    "* [QuTiP](http://qutip.org/docs/4.1/index.html) 4.1.0 (only for Bloch sphere visualization features)"
   ]
  },
  {
   "cell_type": "code",
   "execution_count": 1,
   "metadata": {},
   "outputs": [],
   "source": [
    "# builtins\n",
    "import time\n",
    "\n",
    "# standard imports\n",
    "import matplotlib.pyplot as plt\n",
    "import numpy as np\n",
    "from scipy.optimize import minimize\n",
    "\n",
    "# library imports\n",
    "from pyquil.quil import Program\n",
    "from pyquil import api\n",
    "import pyquil.gates as ops\n",
    "from qutip import Bloch, ket\n",
    "\n",
    "# option for notebook plotting\n",
    "%matplotlib inline"
   ]
  },
  {
   "cell_type": "markdown",
   "metadata": {},
   "source": [
    "# <p style=\"text-align: center;\"> Quantum Neural Networks: A Five Step Process </p> "
   ]
  },
  {
   "cell_type": "markdown",
   "metadata": {},
   "source": [
    "To implement a neural network for classical data on a quantum computer (i.e., a _quantum neural network_), the following steps need to be performed.\n",
    "\n",
    "1. Data encoding.\n",
    "    * Encode the classical data into a form suitable for the quantum circuit.\n",
    "1. State preparation.\n",
    "    * Implement a quantum circuit preparing the state of a particular datum.\n",
    "1. Unitary evolution.\n",
    "    * Implement a parameterized gate sequence to transform the data.\n",
    "1. Measurement/non-linearity.\n",
    "    * Measure the state of the quantum data after unitary evolution to revert back to classical information.       * Non-linearity can be introduced at this point via classical processing.\n",
    "1. Training/cost function.\n",
    "    * Define a cost function and optimize the parameters of the unitary to minimize the cost.\n",
    "    \n",
    "In the rest of the notebook, we'll go over how to do each of these steps in turn for a simple classification problem. At the end of the notebook, we'll show how easily this can be done with the NISQAI library and discuss other features of NISQAI."
   ]
  },
  {
   "cell_type": "markdown",
   "metadata": {},
   "source": [
    "# <p style=\"text-align: center;\"> Problem Description </p> "
   ]
  },
  {
   "cell_type": "markdown",
   "metadata": {},
   "source": [
    "The specific problem we look it in this notebook falls under the category of _supervised machine learning_. Specifically, we ask:\n",
    "\n",
    "_Given $N$ data points $p = (x, y) \\in \\mathbb{R}^2$ with labels $z(p) = 1$ if $x \\le 0.5$ and $z(p) = 0$ otherwise, learn the decision boundary and classify new points._"
   ]
  },
  {
   "cell_type": "markdown",
   "metadata": {},
   "source": [
    "## <p style=\"text-align: center;\"> 1. Data Encoding  </p> "
   ]
  },
  {
   "cell_type": "markdown",
   "metadata": {},
   "source": [
    "In order to run a quantum neural network on classical data, the classical data needs to be suitably encoded to allow it to be \"uploaded\" to a quantum computer. We demonstrate a simple encoding scheme below for $(x, y)$ Cartesian coordinates distributed uniformly in a unit square."
   ]
  },
  {
   "cell_type": "markdown",
   "metadata": {},
   "source": [
    "### <p style=\"text-align: center;\"> Generating Data  </p> "
   ]
  },
  {
   "cell_type": "markdown",
   "metadata": {},
   "source": [
    "First we generate a random set of classical data. For reproducibility, we'll seed our random number generator."
   ]
  },
  {
   "cell_type": "code",
   "execution_count": 2,
   "metadata": {},
   "outputs": [],
   "source": [
    "# set random seed for reproducible results\n",
    "SEED = 1059123109\n",
    "np.random.seed(seed=SEED)"
   ]
  },
  {
   "cell_type": "code",
   "execution_count": 3,
   "metadata": {},
   "outputs": [
    {
     "data": {
      "image/png": "[encoded data removed]",
      "text/plain": [
       "<Figure size 432x288 with 1 Axes>"
      ]
     },
     "metadata": {},
     "output_type": "display_data"
    }
   ],
   "source": [
    "# generate data points distributed uniformly at random in [0, 1) x [0, 1)\n",
    "npoints = 400\n",
    "data = np.zeros((npoints, 2))\n",
    "dx = np.linspace(0, 1, 20)\n",
    "\n",
    "for j in range(20):\n",
    "    data[j * len(dx) : (j + 1) * len(dx), 0] = dx[j]\n",
    "    data[j * len(dx) : (j + 1) * len(dx), 1] = dx\n",
    "\n",
    "def predicate(point):\n",
    "    \"\"\"Returns true if the point satisfies the predicate, else false.\"\"\"\n",
    "    return True if point[0] <= point[1] else False\n",
    "\n",
    "# separate the data with a linear boundary y = x\n",
    "labels = np.array([1 if predicate(p) else 0 for p in data])\n",
    "\n",
    "# plot the line y = x\n",
    "xs = np.linspace(0, 1, 100)\n",
    "ys = 0.5 * np.ones_like(xs)\n",
    "plt.plot(xs, xs, '--k')\n",
    "\n",
    "# plot the data with the color key BLUE = 0 = LEFT, GREEN = 1 = RIGHT\n",
    "for i in range(npoints):\n",
    "    if labels[i] == 0:\n",
    "        ckey = 'g'\n",
    "    else:\n",
    "        ckey = 'b'\n",
    "    plt.scatter(data[i, 0], data[i, 1], color=ckey)\n",
    "    \n",
    "# title and axis lables\n",
    "plt.title(\"Random Data Points in Unit Square\", fontweight=\"bold\", fontsize=16)\n",
    "\n",
    "# put on a grid and show the plot\n",
    "plt.grid()\n",
    "# plt.savefig(\"graph.pdf\", format=\"pdf\")\n",
    "plt.show()"
   ]
  },
  {
   "cell_type": "markdown",
   "metadata": {},
   "source": [
    "### <p style=\"text-align: center;\"> Qubit Encoding </p> "
   ]
  },
  {
   "cell_type": "markdown",
   "metadata": {},
   "source": [
    "Here we implement a method of data encoding that we call \"qubit encoding.\" Qubit encoding works by writing two bits of classical information into one bit of quantum information. How is this done? Note that any qubit can be written\n",
    "\n",
    "\\begin{equation}\n",
    "|\\psi\\rangle = \\alpha |0\\rangle + \\beta |1\\rangle\n",
    "\\end{equation}\n",
    "\n",
    "where $\\alpha, \\beta \\in \\mathbb{C}$ satisfying $|\\alpha|^2 + |\\beta|^2 = 1$. Because of this normalization condition, we may equivalently write\n",
    "\n",
    "\\begin{equation}\n",
    "|\\psi\\rangle = \\cos(\\theta / 2) |0\\rangle + e^{i \\phi} \\sin(\\theta / 2)|1\\rangle\n",
    "\\end{equation}\n",
    "\n",
    "We then encode information into the phases $0 \\le \\theta \\le \\pi$ and $ 0 \\le \\phi \\le 2 \\pi$. \n",
    "\n",
    "For the $(x, y)$ coordinates of our points, we will use the encoding\n",
    "\n",
    "\\begin{align}\n",
    "\\theta &= \\pi x \\\\\n",
    "\\phi &= 2 \\pi y\n",
    "\\end{align}\n",
    "\n",
    "This is a simple encoding, but the results of the classification will speak to it's effectivenss. Other encodings, for example\n",
    "\n",
    "\\begin{align}\n",
    "\\theta &= \\frac{1}{2} \\tan^{-1}\\left( \\frac{y}{x} \\right) \\\\\n",
    "\\phi &= \\pi (x^2 + y^2),\n",
    "\\end{align}\n",
    "\n",
    "can be used for other data sets.\n",
    "\n",
    "In code, we may make this transformation as follows:"
   ]
  },
  {
   "cell_type": "code",
   "execution_count": 4,
   "metadata": {},
   "outputs": [],
   "source": [
    "# encode the classical data via a simple linear \"qubit encoding\"\n",
    "qdata = np.zeros_like(data)\n",
    "for (index, point) in enumerate(data):\n",
    "    qdata[index][0] = np.pi * (point[0] + 0.0 * point[1]) / 1.0\n",
    "    qdata[index][1] = 2 * np.pi * (0.0 * point[0] + point[1]) / 1.0\n",
    "#     qdata[index][0] = np.pi * point[0]\n",
    "#     qdata[index][1] = 2 * np.pi * point[1]\n",
    "#     qdata[index][0] = 2 * np.arcsin(point[0])\n",
    "#     qdata[index][1] = 4 * np.arccos(point[1])"
   ]
  },
  {
   "cell_type": "markdown",
   "metadata": {},
   "source": [
    "It's now possible to visualize the data as points on the surface of the Bloch sphere."
   ]
  },
  {
   "cell_type": "code",
   "execution_count": 8,
   "metadata": {},
   "outputs": [
    {
     "data": {
      "application/javascript": [
       "/* Put everything inside the global mpl namespace */\n",
       "window.mpl = {};\n",
       "\n",
       "\n",
       "mpl.get_websocket_type = function() {\n",
       "    if (typeof(WebSocket) !== 'undefined') {\n",
       "        return WebSocket;\n",
       "    } else if (typeof(MozWebSocket) !== 'undefined') {\n",
       "        return MozWebSocket;\n",
       "    } else {\n",
       "        alert('Your browser does not have WebSocket support.' +\n",
       "              'Please try Chrome, Safari or Firefox ≥ 6. ' +\n",
       "              'Firefox 4 and 5 are also supported but you ' +\n",
       "              'have to enable WebSockets in about:config.');\n",
       "    };\n",
       "}\n",
       "\n",
       "mpl.figure = function(figure_id, websocket, ondownload, parent_element) {\n",
       "    this.id = figure_id;\n",
       "\n",
       "    this.ws = websocket;\n",
       "\n",
       "    this.supports_binary = (this.ws.binaryType != undefined);\n",
       "\n",
       "    if (!this.supports_binary) {\n",
       "        var warnings = document.getElementById(\"mpl-warnings\");\n",
       "        if (warnings) {\n",
       "            warnings.style.display = 'block';\n",
       "            warnings.textContent = (\n",
       "                \"This browser does not support binary websocket messages. \" +\n",
       "                    \"Performance may be slow.\");\n",
       "        }\n",
       "    }\n",
       "\n",
       "    this.imageObj = new Image();\n",
       "\n",
       "    this.context = undefined;\n",
       "    this.message = undefined;\n",
       "    this.canvas = undefined;\n",
       "    this.rubberband_canvas = undefined;\n",
       "    this.rubberband_context = undefined;\n",
       "    this.format_dropdown = undefined;\n",
       "\n",
       "    this.image_mode = 'full';\n",
       "\n",
       "    this.root = $('<div/>');\n",
       "    this._root_extra_style(this.root)\n",
       "    this.root.attr('style', 'display: inline-block');\n",
       "\n",
       "    $(parent_element).append(this.root);\n",
       "\n",
       "    this._init_header(this);\n",
       "    this._init_canvas(this);\n",
       "    this._init_toolbar(this);\n",
       "\n",
       "    var fig = this;\n",
       "\n",
       "    this.waiting = false;\n",
       "\n",
       "    this.ws.onopen =  function () {\n",
       "            fig.send_message(\"supports_binary\", {value: fig.supports_binary});\n",
       "            fig.send_message(\"send_image_mode\", {});\n",
       "            if (mpl.ratio != 1) {\n",
       "                fig.send_message(\"set_dpi_ratio\", {'dpi_ratio': mpl.ratio});\n",
       "            }\n",
       "            fig.send_message(\"refresh\", {});\n",
       "        }\n",
       "\n",
       "    this.imageObj.onload = function() {\n",
       "            if (fig.image_mode == 'full') {\n",
       "                // Full images could contain transparency (where diff images\n",
       "                // almost always do), so we need to clear the canvas so that\n",
       "                // there is no ghosting.\n",
       "                fig.context.clearRect(0, 0, fig.canvas.width, fig.canvas.height);\n",
       "            }\n",
       "            fig.context.drawImage(fig.imageObj, 0, 0);\n",
       "        };\n",
       "\n",
       "    this.imageObj.onunload = function() {\n",
       "        fig.ws.close();\n",
       "    }\n",
       "\n",
       "    this.ws.onmessage = this._make_on_message_function(this);\n",
       "\n",
       "    this.ondownload = ondownload;\n",
       "}\n",
       "\n",
       "mpl.figure.prototype._init_header = function() {\n",
       "    var titlebar = $(\n",
       "        '<div class=\"ui-dialog-titlebar ui-widget-header ui-corner-all ' +\n",
       "        'ui-helper-clearfix\"/>');\n",
       "    var titletext = $(\n",
       "        '<div class=\"ui-dialog-title\" style=\"width: 100%; ' +\n",
       "        'text-align: center; padding: 3px;\"/>');\n",
       "    titlebar.append(titletext)\n",
       "    this.root.append(titlebar);\n",
       "    this.header = titletext[0];\n",
       "}\n",
       "\n",
       "\n",
       "\n",
       "mpl.figure.prototype._canvas_extra_style = function(canvas_div) {\n",
       "\n",
       "}\n",
       "\n",
       "\n",
       "mpl.figure.prototype._root_extra_style = function(canvas_div) {\n",
       "\n",
       "}\n",
       "\n",
       "mpl.figure.prototype._init_canvas = function() {\n",
       "    var fig = this;\n",
       "\n",
       "    var canvas_div = $('<div/>');\n",
       "\n",
       "    canvas_div.attr('style', 'position: relative; clear: both; outline: 0');\n",
       "\n",
       "    function canvas_keyboard_event(event) {\n",
       "        return fig.key_event(event, event['data']);\n",
       "    }\n",
       "\n",
       "    canvas_div.keydown('key_press', canvas_keyboard_event);\n",
       "    canvas_div.keyup('key_release', canvas_keyboard_event);\n",
       "    this.canvas_div = canvas_div\n",
       "    this._canvas_extra_style(canvas_div)\n",
       "    this.root.append(canvas_div);\n",
       "\n",
       "    var canvas = $('<canvas/>');\n",
       "    canvas.addClass('mpl-canvas');\n",
       "    canvas.attr('style', \"left: 0; top: 0; z-index: 0; outline: 0\")\n",
       "\n",
       "    this.canvas = canvas[0];\n",
       "    this.context = canvas[0].getContext(\"2d\");\n",
       "\n",
       "    var backingStore = this.context.backingStorePixelRatio ||\n",
       "\tthis.context.webkitBackingStorePixelRatio ||\n",
       "\tthis.context.mozBackingStorePixelRatio ||\n",
       "\tthis.context.msBackingStorePixelRatio ||\n",
       "\tthis.context.oBackingStorePixelRatio ||\n",
       "\tthis.context.backingStorePixelRatio || 1;\n",
       "\n",
       "    mpl.ratio = (window.devicePixelRatio || 1) / backingStore;\n",
       "\n",
       "    var rubberband = $('<canvas/>');\n",
       "    rubberband.attr('style', \"position: absolute; left: 0; top: 0; z-index: 1;\")\n",
       "\n",
       "    var pass_mouse_events = true;\n",
       "\n",
       "    canvas_div.resizable({\n",
       "        start: function(event, ui) {\n",
       "            pass_mouse_events = false;\n",
       "        },\n",
       "        resize: function(event, ui) {\n",
       "            fig.request_resize(ui.size.width, ui.size.height);\n",
       "        },\n",
       "        stop: function(event, ui) {\n",
       "            pass_mouse_events = true;\n",
       "            fig.request_resize(ui.size.width, ui.size.height);\n",
       "        },\n",
       "    });\n",
       "\n",
       "    function mouse_event_fn(event) {\n",
       "        if (pass_mouse_events)\n",
       "            return fig.mouse_event(event, event['data']);\n",
       "    }\n",
       "\n",
       "    rubberband.mousedown('button_press', mouse_event_fn);\n",
       "    rubberband.mouseup('button_release', mouse_event_fn);\n",
       "    // Throttle sequential mouse events to 1 every 20ms.\n",
       "    rubberband.mousemove('motion_notify', mouse_event_fn);\n",
       "\n",
       "    rubberband.mouseenter('figure_enter', mouse_event_fn);\n",
       "    rubberband.mouseleave('figure_leave', mouse_event_fn);\n",
       "\n",
       "    canvas_div.on(\"wheel\", function (event) {\n",
       "        event = event.originalEvent;\n",
       "        event['data'] = 'scroll'\n",
       "        if (event.deltaY < 0) {\n",
       "            event.step = 1;\n",
       "        } else {\n",
       "            event.step = -1;\n",
       "        }\n",
       "        mouse_event_fn(event);\n",
       "    });\n",
       "\n",
       "    canvas_div.append(canvas);\n",
       "    canvas_div.append(rubberband);\n",
       "\n",
       "    this.rubberband = rubberband;\n",
       "    this.rubberband_canvas = rubberband[0];\n",
       "    this.rubberband_context = rubberband[0].getContext(\"2d\");\n",
       "    this.rubberband_context.strokeStyle = \"#000000\";\n",
       "\n",
       "    this._resize_canvas = function(width, height) {\n",
       "        // Keep the size of the canvas, canvas container, and rubber band\n",
       "        // canvas in synch.\n",
       "        canvas_div.css('width', width)\n",
       "        canvas_div.css('height', height)\n",
       "\n",
       "        canvas.attr('width', width * mpl.ratio);\n",
       "        canvas.attr('height', height * mpl.ratio);\n",
       "        canvas.attr('style', 'width: ' + width + 'px; height: ' + height + 'px;');\n",
       "\n",
       "        rubberband.attr('width', width);\n",
       "        rubberband.attr('height', height);\n",
       "    }\n",
       "\n",
       "    // Set the figure to an initial 600x600px, this will subsequently be updated\n",
       "    // upon first draw.\n",
       "    this._resize_canvas(600, 600);\n",
       "\n",
       "    // Disable right mouse context menu.\n",
       "    $(this.rubberband_canvas).bind(\"contextmenu\",function(e){\n",
       "        return false;\n",
       "    });\n",
       "\n",
       "    function set_focus () {\n",
       "        canvas.focus();\n",
       "        canvas_div.focus();\n",
       "    }\n",
       "\n",
       "    window.setTimeout(set_focus, 100);\n",
       "}\n",
       "\n",
       "mpl.figure.prototype._init_toolbar = function() {\n",
       "    var fig = this;\n",
       "\n",
       "    var nav_element = $('<div/>')\n",
       "    nav_element.attr('style', 'width: 100%');\n",
       "    this.root.append(nav_element);\n",
       "\n",
       "    // Define a callback function for later on.\n",
       "    function toolbar_event(event) {\n",
       "        return fig.toolbar_button_onclick(event['data']);\n",
       "    }\n",
       "    function toolbar_mouse_event(event) {\n",
       "        return fig.toolbar_button_onmouseover(event['data']);\n",
       "    }\n",
       "\n",
       "    for(var toolbar_ind in mpl.toolbar_items) {\n",
       "        var name = mpl.toolbar_items[toolbar_ind][0];\n",
       "        var tooltip = mpl.toolbar_items[toolbar_ind][1];\n",
       "        var image = mpl.toolbar_items[toolbar_ind][2];\n",
       "        var method_name = mpl.toolbar_items[toolbar_ind][3];\n",
       "\n",
       "        if (!name) {\n",
       "            // put a spacer in here.\n",
       "            continue;\n",
       "        }\n",
       "        var button = $('<button/>');\n",
       "        button.addClass('ui-button ui-widget ui-state-default ui-corner-all ' +\n",
       "                        'ui-button-icon-only');\n",
       "        button.attr('role', 'button');\n",
       "        button.attr('aria-disabled', 'false');\n",
       "        button.click(method_name, toolbar_event);\n",
       "        button.mouseover(tooltip, toolbar_mouse_event);\n",
       "\n",
       "        var icon_img = $('<span/>');\n",
       "        icon_img.addClass('ui-button-icon-primary ui-icon');\n",
       "        icon_img.addClass(image);\n",
       "        icon_img.addClass('ui-corner-all');\n",
       "\n",
       "        var tooltip_span = $('<span/>');\n",
       "        tooltip_span.addClass('ui-button-text');\n",
       "        tooltip_span.html(tooltip);\n",
       "\n",
       "        button.append(icon_img);\n",
       "        button.append(tooltip_span);\n",
       "\n",
       "        nav_element.append(button);\n",
       "    }\n",
       "\n",
       "    var fmt_picker_span = $('<span/>');\n",
       "\n",
       "    var fmt_picker = $('<select/>');\n",
       "    fmt_picker.addClass('mpl-toolbar-option ui-widget ui-widget-content');\n",
       "    fmt_picker_span.append(fmt_picker);\n",
       "    nav_element.append(fmt_picker_span);\n",
       "    this.format_dropdown = fmt_picker[0];\n",
       "\n",
       "    for (var ind in mpl.extensions) {\n",
       "        var fmt = mpl.extensions[ind];\n",
       "        var option = $(\n",
       "            '<option/>', {selected: fmt === mpl.default_extension}).html(fmt);\n",
       "        fmt_picker.append(option)\n",
       "    }\n",
       "\n",
       "    // Add hover states to the ui-buttons\n",
       "    $( \".ui-button\" ).hover(\n",
       "        function() { $(this).addClass(\"ui-state-hover\");},\n",
       "        function() { $(this).removeClass(\"ui-state-hover\");}\n",
       "    );\n",
       "\n",
       "    var status_bar = $('<span class=\"mpl-message\"/>');\n",
       "    nav_element.append(status_bar);\n",
       "    this.message = status_bar[0];\n",
       "}\n",
       "\n",
       "mpl.figure.prototype.request_resize = function(x_pixels, y_pixels) {\n",
       "    // Request matplotlib to resize the figure. Matplotlib will then trigger a resize in the client,\n",
       "    // which will in turn request a refresh of the image.\n",
       "    this.send_message('resize', {'width': x_pixels, 'height': y_pixels});\n",
       "}\n",
       "\n",
       "mpl.figure.prototype.send_message = function(type, properties) {\n",
       "    properties['type'] = type;\n",
       "    properties['figure_id'] = this.id;\n",
       "    this.ws.send(JSON.stringify(properties));\n",
       "}\n",
       "\n",
       "mpl.figure.prototype.send_draw_message = function() {\n",
       "    if (!this.waiting) {\n",
       "        this.waiting = true;\n",
       "        this.ws.send(JSON.stringify({type: \"draw\", figure_id: this.id}));\n",
       "    }\n",
       "}\n",
       "\n",
       "\n",
       "mpl.figure.prototype.handle_save = function(fig, msg) {\n",
       "    var format_dropdown = fig.format_dropdown;\n",
       "    var format = format_dropdown.options[format_dropdown.selectedIndex].value;\n",
       "    fig.ondownload(fig, format);\n",
       "}\n",
       "\n",
       "\n",
       "mpl.figure.prototype.handle_resize = function(fig, msg) {\n",
       "    var size = msg['size'];\n",
       "    if (size[0] != fig.canvas.width || size[1] != fig.canvas.height) {\n",
       "        fig._resize_canvas(size[0], size[1]);\n",
       "        fig.send_message(\"refresh\", {});\n",
       "    };\n",
       "}\n",
       "\n",
       "mpl.figure.prototype.handle_rubberband = function(fig, msg) {\n",
       "    var x0 = msg['x0'] / mpl.ratio;\n",
       "    var y0 = (fig.canvas.height - msg['y0']) / mpl.ratio;\n",
       "    var x1 = msg['x1'] / mpl.ratio;\n",
       "    var y1 = (fig.canvas.height - msg['y1']) / mpl.ratio;\n",
       "    x0 = Math.floor(x0) + 0.5;\n",
       "    y0 = Math.floor(y0) + 0.5;\n",
       "    x1 = Math.floor(x1) + 0.5;\n",
       "    y1 = Math.floor(y1) + 0.5;\n",
       "    var min_x = Math.min(x0, x1);\n",
       "    var min_y = Math.min(y0, y1);\n",
       "    var width = Math.abs(x1 - x0);\n",
       "    var height = Math.abs(y1 - y0);\n",
       "\n",
       "    fig.rubberband_context.clearRect(\n",
       "        0, 0, fig.canvas.width, fig.canvas.height);\n",
       "\n",
       "    fig.rubberband_context.strokeRect(min_x, min_y, width, height);\n",
       "}\n",
       "\n",
       "mpl.figure.prototype.handle_figure_label = function(fig, msg) {\n",
       "    // Updates the figure title.\n",
       "    fig.header.textContent = msg['label'];\n",
       "}\n",
       "\n",
       "mpl.figure.prototype.handle_cursor = function(fig, msg) {\n",
       "    var cursor = msg['cursor'];\n",
       "    switch(cursor)\n",
       "    {\n",
       "    case 0:\n",
       "        cursor = 'pointer';\n",
       "        break;\n",
       "    case 1:\n",
       "        cursor = 'default';\n",
       "        break;\n",
       "    case 2:\n",
       "        cursor = 'crosshair';\n",
       "        break;\n",
       "    case 3:\n",
       "        cursor = 'move';\n",
       "        break;\n",
       "    }\n",
       "    fig.rubberband_canvas.style.cursor = cursor;\n",
       "}\n",
       "\n",
       "mpl.figure.prototype.handle_message = function(fig, msg) {\n",
       "    fig.message.textContent = msg['message'];\n",
       "}\n",
       "\n",
       "mpl.figure.prototype.handle_draw = function(fig, msg) {\n",
       "    // Request the server to send over a new figure.\n",
       "    fig.send_draw_message();\n",
       "}\n",
       "\n",
       "mpl.figure.prototype.handle_image_mode = function(fig, msg) {\n",
       "    fig.image_mode = msg['mode'];\n",
       "}\n",
       "\n",
       "mpl.figure.prototype.updated_canvas_event = function() {\n",
       "    // Called whenever the canvas gets updated.\n",
       "    this.send_message(\"ack\", {});\n",
       "}\n",
       "\n",
       "// A function to construct a web socket function for onmessage handling.\n",
       "// Called in the figure constructor.\n",
       "mpl.figure.prototype._make_on_message_function = function(fig) {\n",
       "    return function socket_on_message(evt) {\n",
       "        if (evt.data instanceof Blob) {\n",
       "            /* FIXME: We get \"Resource interpreted as Image but\n",
       "             * transferred with MIME type text/plain:\" errors on\n",
       "             * Chrome.  But how to set the MIME type?  It doesn't seem\n",
       "             * to be part of the websocket stream */\n",
       "            evt.data.type = \"image/png\";\n",
       "\n",
       "            /* Free the memory for the previous frames */\n",
       "            if (fig.imageObj.src) {\n",
       "                (window.URL || window.webkitURL).revokeObjectURL(\n",
       "                    fig.imageObj.src);\n",
       "            }\n",
       "\n",
       "            fig.imageObj.src = (window.URL || window.webkitURL).createObjectURL(\n",
       "                evt.data);\n",
       "            fig.updated_canvas_event();\n",
       "            fig.waiting = false;\n",
       "            return;\n",
       "        }\n",
       "        else if (typeof evt.data === 'string' && evt.data.slice(0, 21) == \"data:image/png;base64\") {\n",
       "            fig.imageObj.src = evt.data;\n",
       "            fig.updated_canvas_event();\n",
       "            fig.waiting = false;\n",
       "            return;\n",
       "        }\n",
       "\n",
       "        var msg = JSON.parse(evt.data);\n",
       "        var msg_type = msg['type'];\n",
       "\n",
       "        // Call the  \"handle_{type}\" callback, which takes\n",
       "        // the figure and JSON message as its only arguments.\n",
       "        try {\n",
       "            var callback = fig[\"handle_\" + msg_type];\n",
       "        } catch (e) {\n",
       "            console.log(\"No handler for the '\" + msg_type + \"' message type: \", msg);\n",
       "            return;\n",
       "        }\n",
       "\n",
       "        if (callback) {\n",
       "            try {\n",
       "                // console.log(\"Handling '\" + msg_type + \"' message: \", msg);\n",
       "                callback(fig, msg);\n",
       "            } catch (e) {\n",
       "                console.log(\"Exception inside the 'handler_\" + msg_type + \"' callback:\", e, e.stack, msg);\n",
       "            }\n",
       "        }\n",
       "    };\n",
       "}\n",
       "\n",
       "// from http://stackoverflow.com/questions/1114465/getting-mouse-location-in-canvas\n",
       "mpl.findpos = function(e) {\n",
       "    //this section is from http://www.quirksmode.org/js/events_properties.html\n",
       "    var targ;\n",
       "    if (!e)\n",
       "        e = window.event;\n",
       "    if (e.target)\n",
       "        targ = e.target;\n",
       "    else if (e.srcElement)\n",
       "        targ = e.srcElement;\n",
       "    if (targ.nodeType == 3) // defeat Safari bug\n",
       "        targ = targ.parentNode;\n",
       "\n",
       "    // jQuery normalizes the pageX and pageY\n",
       "    // pageX,Y are the mouse positions relative to the document\n",
       "    // offset() returns the position of the element relative to the document\n",
       "    var x = e.pageX - $(targ).offset().left;\n",
       "    var y = e.pageY - $(targ).offset().top;\n",
       "\n",
       "    return {\"x\": x, \"y\": y};\n",
       "};\n",
       "\n",
       "/*\n",
       " * return a copy of an object with only non-object keys\n",
       " * we need this to avoid circular references\n",
       " * http://stackoverflow.com/a/24161582/3208463\n",
       " */\n",
       "function simpleKeys (original) {\n",
       "  return Object.keys(original).reduce(function (obj, key) {\n",
       "    if (typeof original[key] !== 'object')\n",
       "        obj[key] = original[key]\n",
       "    return obj;\n",
       "  }, {});\n",
       "}\n",
       "\n",
       "mpl.figure.prototype.mouse_event = function(event, name) {\n",
       "    var canvas_pos = mpl.findpos(event)\n",
       "\n",
       "    if (name === 'button_press')\n",
       "    {\n",
       "        this.canvas.focus();\n",
       "        this.canvas_div.focus();\n",
       "    }\n",
       "\n",
       "    var x = canvas_pos.x * mpl.ratio;\n",
       "    var y = canvas_pos.y * mpl.ratio;\n",
       "\n",
       "    this.send_message(name, {x: x, y: y, button: event.button,\n",
       "                             step: event.step,\n",
       "                             guiEvent: simpleKeys(event)});\n",
       "\n",
       "    /* This prevents the web browser from automatically changing to\n",
       "     * the text insertion cursor when the button is pressed.  We want\n",
       "     * to control all of the cursor setting manually through the\n",
       "     * 'cursor' event from matplotlib */\n",
       "    event.preventDefault();\n",
       "    return false;\n",
       "}\n",
       "\n",
       "mpl.figure.prototype._key_event_extra = function(event, name) {\n",
       "    // Handle any extra behaviour associated with a key event\n",
       "}\n",
       "\n",
       "mpl.figure.prototype.key_event = function(event, name) {\n",
       "\n",
       "    // Prevent repeat events\n",
       "    if (name == 'key_press')\n",
       "    {\n",
       "        if (event.which === this._key)\n",
       "            return;\n",
       "        else\n",
       "            this._key = event.which;\n",
       "    }\n",
       "    if (name == 'key_release')\n",
       "        this._key = null;\n",
       "\n",
       "    var value = '';\n",
       "    if (event.ctrlKey && event.which != 17)\n",
       "        value += \"ctrl+\";\n",
       "    if (event.altKey && event.which != 18)\n",
       "        value += \"alt+\";\n",
       "    if (event.shiftKey && event.which != 16)\n",
       "        value += \"shift+\";\n",
       "\n",
       "    value += 'k';\n",
       "    value += event.which.toString();\n",
       "\n",
       "    this._key_event_extra(event, name);\n",
       "\n",
       "    this.send_message(name, {key: value,\n",
       "                             guiEvent: simpleKeys(event)});\n",
       "    return false;\n",
       "}\n",
       "\n",
       "mpl.figure.prototype.toolbar_button_onclick = function(name) {\n",
       "    if (name == 'download') {\n",
       "        this.handle_save(this, null);\n",
       "    } else {\n",
       "        this.send_message(\"toolbar_button\", {name: name});\n",
       "    }\n",
       "};\n",
       "\n",
       "mpl.figure.prototype.toolbar_button_onmouseover = function(tooltip) {\n",
       "    this.message.textContent = tooltip;\n",
       "};\n",
       "mpl.toolbar_items = [[\"Home\", \"Reset original view\", \"fa fa-home icon-home\", \"home\"], [\"Back\", \"Back to  previous view\", \"fa fa-arrow-left icon-arrow-left\", \"back\"], [\"Forward\", \"Forward to next view\", \"fa fa-arrow-right icon-arrow-right\", \"forward\"], [\"\", \"\", \"\", \"\"], [\"Pan\", \"Pan axes with left mouse, zoom with right\", \"fa fa-arrows icon-move\", \"pan\"], [\"Zoom\", \"Zoom to rectangle\", \"fa fa-square-o icon-check-empty\", \"zoom\"], [\"\", \"\", \"\", \"\"], [\"Download\", \"Download plot\", \"fa fa-floppy-o icon-save\", \"download\"]];\n",
       "\n",
       "mpl.extensions = [\"eps\", \"jpeg\", \"pdf\", \"png\", \"ps\", \"raw\", \"svg\", \"tif\"];\n",
       "\n",
       "mpl.default_extension = \"png\";var comm_websocket_adapter = function(comm) {\n",
       "    // Create a \"websocket\"-like object which calls the given IPython comm\n",
       "    // object with the appropriate methods. Currently this is a non binary\n",
       "    // socket, so there is still some room for performance tuning.\n",
       "    var ws = {};\n",
       "\n",
       "    ws.close = function() {\n",
       "        comm.close()\n",
       "    };\n",
       "    ws.send = function(m) {\n",
       "        //console.log('sending', m);\n",
       "        comm.send(m);\n",
       "    };\n",
       "    // Register the callback with on_msg.\n",
       "    comm.on_msg(function(msg) {\n",
       "        //console.log('receiving', msg['content']['data'], msg);\n",
       "        // Pass the mpl event to the overridden (by mpl) onmessage function.\n",
       "        ws.onmessage(msg['content']['data'])\n",
       "    });\n",
       "    return ws;\n",
       "}\n",
       "\n",
       "mpl.mpl_figure_comm = function(comm, msg) {\n",
       "    // This is the function which gets called when the mpl process\n",
       "    // starts-up an IPython Comm through the \"matplotlib\" channel.\n",
       "\n",
       "    var id = msg.content.data.id;\n",
       "    // Get hold of the div created by the display call when the Comm\n",
       "    // socket was opened in Python.\n",
       "    var element = $(\"#\" + id);\n",
       "    var ws_proxy = comm_websocket_adapter(comm)\n",
       "\n",
       "    function ondownload(figure, format) {\n",
       "        window.open(figure.imageObj.src);\n",
       "    }\n",
       "\n",
       "    var fig = new mpl.figure(id, ws_proxy,\n",
       "                           ondownload,\n",
       "                           element.get(0));\n",
       "\n",
       "    // Call onopen now - mpl needs it, as it is assuming we've passed it a real\n",
       "    // web socket which is closed, not our websocket->open comm proxy.\n",
       "    ws_proxy.onopen();\n",
       "\n",
       "    fig.parent_element = element.get(0);\n",
       "    fig.cell_info = mpl.find_output_cell(\"<div id='\" + id + \"'></div>\");\n",
       "    if (!fig.cell_info) {\n",
       "        console.error(\"Failed to find cell for figure\", id, fig);\n",
       "        return;\n",
       "    }\n",
       "\n",
       "    var output_index = fig.cell_info[2]\n",
       "    var cell = fig.cell_info[0];\n",
       "\n",
       "};\n",
       "\n",
       "mpl.figure.prototype.handle_close = function(fig, msg) {\n",
       "    var width = fig.canvas.width/mpl.ratio\n",
       "    fig.root.unbind('remove')\n",
       "\n",
       "    // Update the output cell to use the data from the current canvas.\n",
       "    fig.push_to_output();\n",
       "    var dataURL = fig.canvas.toDataURL();\n",
       "    // Re-enable the keyboard manager in IPython - without this line, in FF,\n",
       "    // the notebook keyboard shortcuts fail.\n",
       "    IPython.keyboard_manager.enable()\n",
       "    $(fig.parent_element).html('<img src=\"' + dataURL + '\" width=\"' + width + '\">');\n",
       "    fig.close_ws(fig, msg);\n",
       "}\n",
       "\n",
       "mpl.figure.prototype.close_ws = function(fig, msg){\n",
       "    fig.send_message('closing', msg);\n",
       "    // fig.ws.close()\n",
       "}\n",
       "\n",
       "mpl.figure.prototype.push_to_output = function(remove_interactive) {\n",
       "    // Turn the data on the canvas into data in the output cell.\n",
       "    var width = this.canvas.width/mpl.ratio\n",
       "    var dataURL = this.canvas.toDataURL();\n",
       "    this.cell_info[1]['text/html'] = '<img src=\"' + dataURL + '\" width=\"' + width + '\">';\n",
       "}\n",
       "\n",
       "mpl.figure.prototype.updated_canvas_event = function() {\n",
       "    // Tell IPython that the notebook contents must change.\n",
       "    IPython.notebook.set_dirty(true);\n",
       "    this.send_message(\"ack\", {});\n",
       "    var fig = this;\n",
       "    // Wait a second, then push the new image to the DOM so\n",
       "    // that it is saved nicely (might be nice to debounce this).\n",
       "    setTimeout(function () { fig.push_to_output() }, 1000);\n",
       "}\n",
       "\n",
       "mpl.figure.prototype._init_toolbar = function() {\n",
       "    var fig = this;\n",
       "\n",
       "    var nav_element = $('<div/>')\n",
       "    nav_element.attr('style', 'width: 100%');\n",
       "    this.root.append(nav_element);\n",
       "\n",
       "    // Define a callback function for later on.\n",
       "    function toolbar_event(event) {\n",
       "        return fig.toolbar_button_onclick(event['data']);\n",
       "    }\n",
       "    function toolbar_mouse_event(event) {\n",
       "        return fig.toolbar_button_onmouseover(event['data']);\n",
       "    }\n",
       "\n",
       "    for(var toolbar_ind in mpl.toolbar_items){\n",
       "        var name = mpl.toolbar_items[toolbar_ind][0];\n",
       "        var tooltip = mpl.toolbar_items[toolbar_ind][1];\n",
       "        var image = mpl.toolbar_items[toolbar_ind][2];\n",
       "        var method_name = mpl.toolbar_items[toolbar_ind][3];\n",
       "\n",
       "        if (!name) { continue; };\n",
       "\n",
       "        var button = $('<button class=\"btn btn-default\" href=\"#\" title=\"' + name + '\"><i class=\"fa ' + image + ' fa-lg\"></i></button>');\n",
       "        button.click(method_name, toolbar_event);\n",
       "        button.mouseover(tooltip, toolbar_mouse_event);\n",
       "        nav_element.append(button);\n",
       "    }\n",
       "\n",
       "    // Add the status bar.\n",
       "    var status_bar = $('<span class=\"mpl-message\" style=\"text-align:right; float: right;\"/>');\n",
       "    nav_element.append(status_bar);\n",
       "    this.message = status_bar[0];\n",
       "\n",
       "    // Add the close button to the window.\n",
       "    var buttongrp = $('<div class=\"btn-group inline pull-right\"></div>');\n",
       "    var button = $('<button class=\"btn btn-mini btn-primary\" href=\"#\" title=\"Stop Interaction\"><i class=\"fa fa-power-off icon-remove icon-large\"></i></button>');\n",
       "    button.click(function (evt) { fig.handle_close(fig, {}); } );\n",
       "    button.mouseover('Stop Interaction', toolbar_mouse_event);\n",
       "    buttongrp.append(button);\n",
       "    var titlebar = this.root.find($('.ui-dialog-titlebar'));\n",
       "    titlebar.prepend(buttongrp);\n",
       "}\n",
       "\n",
       "mpl.figure.prototype._root_extra_style = function(el){\n",
       "    var fig = this\n",
       "    el.on(\"remove\", function(){\n",
       "\tfig.close_ws(fig, {});\n",
       "    });\n",
       "}\n",
       "\n",
       "mpl.figure.prototype._canvas_extra_style = function(el){\n",
       "    // this is important to make the div 'focusable\n",
       "    el.attr('tabindex', 0)\n",
       "    // reach out to IPython and tell the keyboard manager to turn it's self\n",
       "    // off when our div gets focus\n",
       "\n",
       "    // location in version 3\n",
       "    if (IPython.notebook.keyboard_manager) {\n",
       "        IPython.notebook.keyboard_manager.register_events(el);\n",
       "    }\n",
       "    else {\n",
       "        // location in version 2\n",
       "        IPython.keyboard_manager.register_events(el);\n",
       "    }\n",
       "\n",
       "}\n",
       "\n",
       "mpl.figure.prototype._key_event_extra = function(event, name) {\n",
       "    var manager = IPython.notebook.keyboard_manager;\n",
       "    if (!manager)\n",
       "        manager = IPython.keyboard_manager;\n",
       "\n",
       "    // Check for shift+enter\n",
       "    if (event.shiftKey && event.which == 13) {\n",
       "        this.canvas_div.blur();\n",
       "        event.shiftKey = false;\n",
       "        // Send a \"J\" for go to next cell\n",
       "        event.which = 74;\n",
       "        event.keyCode = 74;\n",
       "        manager.command_mode();\n",
       "        manager.handle_keydown(event);\n",
       "    }\n",
       "}\n",
       "\n",
       "mpl.figure.prototype.handle_save = function(fig, msg) {\n",
       "    fig.ondownload(fig, null);\n",
       "}\n",
       "\n",
       "\n",
       "mpl.find_output_cell = function(html_output) {\n",
       "    // Return the cell and output element which can be found *uniquely* in the notebook.\n",
       "    // Note - this is a bit hacky, but it is done because the \"notebook_saving.Notebook\"\n",
       "    // IPython event is triggered only after the cells have been serialised, which for\n",
       "    // our purposes (turning an active figure into a static one), is too late.\n",
       "    var cells = IPython.notebook.get_cells();\n",
       "    var ncells = cells.length;\n",
       "    for (var i=0; i<ncells; i++) {\n",
       "        var cell = cells[i];\n",
       "        if (cell.cell_type === 'code'){\n",
       "            for (var j=0; j<cell.output_area.outputs.length; j++) {\n",
       "                var data = cell.output_area.outputs[j];\n",
       "                if (data.data) {\n",
       "                    // IPython >= 3 moved mimebundle to data attribute of output\n",
       "                    data = data.data;\n",
       "                }\n",
       "                if (data['text/html'] == html_output) {\n",
       "                    return [cell, data, j];\n",
       "                }\n",
       "            }\n",
       "        }\n",
       "    }\n",
       "}\n",
       "\n",
       "// Register the function which deals with the matplotlib target/channel.\n",
       "// The kernel may be null if the page has been refreshed.\n",
       "if (IPython.notebook.kernel != null) {\n",
       "    IPython.notebook.kernel.comm_manager.register_target('matplotlib', mpl.mpl_figure_comm);\n",
       "}\n"
      ],
      "text/plain": [
       "<IPython.core.display.Javascript object>"
      ]
     },
     "metadata": {},
     "output_type": "display_data"
    },
    {
     "data": {
      "text/html": [
       "<img src=\"data:image/png;base64,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\" width=\"360\">"
      ],
      "text/plain": [
       "<IPython.core.display.HTML object>"
      ]
     },
     "metadata": {},
     "output_type": "display_data"
    }
   ],
   "source": [
    "# break the data into two lists depending on label and turn into (x, y, z) points\n",
    "\n",
    "# empty lists to store values\n",
    "gxs = []\n",
    "gys = []\n",
    "gzs = []\n",
    "bxs = []\n",
    "bys = []\n",
    "bzs = []\n",
    "\n",
    "# loop over all points, convert to cartesian coords, and append to correct list\n",
    "for (index, point) in enumerate(qdata):\n",
    "    theta = point[0]\n",
    "    phi = point[1]\n",
    "    sin = np.sin(theta)\n",
    "    # convert to cartesian coords for plotting\n",
    "    x = np.sin(theta) * np.cos(phi)\n",
    "    y = np.sin(theta) * np.sin(phi)\n",
    "    z = np.cos(theta)\n",
    "    if labels[index] == 0:\n",
    "        gxs.append(x)\n",
    "        gys.append(y)\n",
    "        gzs.append(z)\n",
    "    else:\n",
    "        bxs.append(x)\n",
    "        bys.append(y)\n",
    "        bzs.append(z)\n",
    "\n",
    "# format points correctly for bloch sphere\n",
    "lpoints = [gxs, gys, gzs]\n",
    "rpoints = [bxs, bys, bzs]\n",
    "\n",
    "# get a Bloch sphere\n",
    "bloch = Bloch()\n",
    "\n",
    "# options for Bloch sphere\n",
    "bloch.frame_color = \"grey\"\n",
    "bloch.sphere_color = \"white\"\n",
    "bloch.point_size = [40]\n",
    "bloch.sphere_alpha = 0.50\n",
    "bloch.point_color = [\"g\", \"b\"]\n",
    "bloch.point_marker = [\"o\"]\n",
    "bloch.view = [-55, 10]\n",
    "\n",
    "# add the points on the Bloch sphere\n",
    "bloch.add_points(lpoints)\n",
    "bloch.add_points(rpoints)\n",
    "    \n",
    "# show the Bloch sphere\n",
    "#bloch.save(\"lin-comb-bloch.pdf\", format=\"pdf\")\n",
    "%matplotlib notebook\n",
    "bloch.show()"
   ]
  },
  {
   "cell_type": "markdown",
   "metadata": {},
   "source": [
    "## <p style=\"text-align: center;\"> 2. State Preparation </p> "
   ]
  },
  {
   "cell_type": "markdown",
   "metadata": {},
   "source": [
    "Now that we have encoded our data, we still need to prepare it in quantum form. Conventionally, all qubits start in the $|0\\rangle$ state. The problem we have to solve is:\n",
    "\n",
    "Given angles $\\theta, \\phi$, perform the mapping\n",
    "\n",
    "\\begin{equation}\n",
    "S(\\theta, \\phi) |0\\rangle \\rightarrow |\\psi\\rangle = \\cos(\\theta / 2) |0\\rangle + e^{i \\phi} \\sin(\\theta / 2)|1\\rangle\n",
    "\\end{equation}\n",
    "\n",
    "We call $S$ a _state preparation unitary_ or _state preparation circuit_.\n",
    "\n",
    "It is clear from the equation above that the matrix representation for $S$ in the computational basis is\n",
    "\n",
    "\\begin{equation}\n",
    "S(\\theta, \\phi) = \\left[ \\begin{matrix} \n",
    "\\cos(\\theta / 2) & e^{-i \\phi} \\sin(\\theta / 2)\\\\\n",
    "e^{i \\phi} \\sin(\\theta / 2) & - \\cos(\\theta / 2)  \\\\\n",
    "  \\end{matrix} \\right]\n",
    "\\end{equation}\n",
    "\n",
    "On current NISQ computers, circuits need to be as short-depth as possible, meaning they contain as few gates as possible. The \"qubit encoding\" performed above allows for a constant-depth state preparation circuit for any given values of $\\theta, \\phi$.\n",
    "\n",
    "Why is this? In general we need to perform some arbitrary unitary transformation $S \\in SU(2)$. It is known that such a unitary can be implemented with five standard rotations that can be implemented by current quantum computers. Namely,\n",
    "\n",
    "\\begin{equation}\n",
    "S = R_z(\\gamma_1) R_x(\\pi / 2) R_z(\\gamma_2) R_x(\\pi / 2) R_z(\\gamma_3)\n",
    "\\end{equation}\n",
    "\n",
    "where $0 \\le \\gamma_i \\le 2 \\pi$ for $i = 1, 2, 3$. We can define our gate $S$ above in pyquil and compile it to a sequence of five implementable rotations by using the Quil compiler. First we'll write a function to give us our state preparation matrix. "
   ]
  },
  {
   "cell_type": "code",
   "execution_count": 9,
   "metadata": {},
   "outputs": [],
   "source": [
    "# define the matrix S as a function of theta and phi\n",
    "def state_prep_mtx(theta, phi):\n",
    "    \"\"\"Returns the state preparation matrix according to the qubit encoding above.\"\"\"\n",
    "    return np.array([[np.cos(theta / 2), np.exp(-1j * phi) * np.sin(theta / 2)],\n",
    "                     [np.exp(1j * phi) * np.sin(theta / 2), - np.cos(theta / 2)]])"
   ]
  },
  {
   "cell_type": "markdown",
   "metadata": {},
   "source": [
    "Next we'll define this as a pyquil gate. We do this by first making a program then defining a gate for a particular encoded data point."
   ]
  },
  {
   "cell_type": "code",
   "execution_count": 10,
   "metadata": {},
   "outputs": [
    {
     "data": {
      "text/plain": [
       "<pyquil.quil.Program at 0x7f3f0031ff60>"
      ]
     },
     "execution_count": 10,
     "metadata": {},
     "output_type": "execute_result"
    }
   ],
   "source": [
    "# get a pyquil program\n",
    "qprog = Program()\n",
    "\n",
    "# pick a particular encoded data point\n",
    "theta, phi = qdata[0]\n",
    "\n",
    "# get the state prep matrix for this point\n",
    "S = state_prep_mtx(theta, phi)\n",
    "\n",
    "# define a gate in pyquil for the state preparation\n",
    "qprog.defgate(\"S\", state_prep_mtx(theta, phi))"
   ]
  },
  {
   "cell_type": "markdown",
   "metadata": {},
   "source": [
    "We can now use this gate in a quantum program to input our classical data into the quantum computer. To do this, we simply write:"
   ]
  },
  {
   "cell_type": "code",
   "execution_count": 11,
   "metadata": {},
   "outputs": [],
   "source": [
    "# prepare the first encoded data point in quantum form\n",
    "qprog += (\"S\", 0)"
   ]
  },
  {
   "cell_type": "markdown",
   "metadata": {},
   "source": [
    "To see our program, we can print it out:"
   ]
  },
  {
   "cell_type": "code",
   "execution_count": 12,
   "metadata": {},
   "outputs": [
    {
     "name": "stdout",
     "output_type": "stream",
     "text": [
      "DEFGATE S:\n",
      "    1.0, 0.0\n",
      "    0.0, -1.0\n",
      "\n",
      "S 0\n",
      "\n"
     ]
    }
   ],
   "source": [
    "print(qprog)"
   ]
  },
  {
   "cell_type": "markdown",
   "metadata": {},
   "source": [
    "If we measure this qubit now, we get either a zero or a one with probability proportional to it's amplitudes. We'll add this measurement to our program and then run it many times to get an estimate of the probability distribution of it's outcome."
   ]
  },
  {
   "cell_type": "code",
   "execution_count": 13,
   "metadata": {},
   "outputs": [
    {
     "name": "stdout",
     "output_type": "stream",
     "text": [
      "DEFGATE S:\n",
      "    1.0, 0.0\n",
      "    0.0, -1.0\n",
      "\n",
      "S 0\n",
      "DECLARE ro BIT[1]\n",
      "MEASURE 0 ro[0]\n",
      "\n"
     ]
    }
   ],
   "source": [
    "# add a measurement on the qubit encoding our data\n",
    "creg = qprog.declare(\"ro\", memory_size=1)\n",
    "qprog += (ops.MEASURE(0, creg[0]))\n",
    "\n",
    "# print out the new program\n",
    "print(qprog)"
   ]
  },
  {
   "cell_type": "code",
   "execution_count": 14,
   "metadata": {},
   "outputs": [],
   "source": [
    "# run the program many times\n",
    "shots = 1000\n",
    "qvm = api.QVMConnection()\n",
    "dist = qvm.run(qprog, trials=shots)"
   ]
  },
  {
   "cell_type": "code",
   "execution_count": 15,
   "metadata": {},
   "outputs": [],
   "source": [
    "def histogram(dist):\n",
    "    \"\"\"Makes a histogram of the probability of obtaining 0 and 1.\"\"\"\n",
    "    # get the zero and one probabilities\n",
    "    prob0 = dist.count([0]) / shots\n",
    "    prob1 = dist.count([1]) / shots\n",
    "    \n",
    "    # make a bar plot\n",
    "    plt.bar([0, 1], [prob0, prob1])\n",
    "    \n",
    "    # make it look nice\n",
    "    plt.grid()\n",
    "    plt.title(\"Output Probability Distribution\", fontsize=16, fontweight=\"bold\")\n",
    "    plt.xlabel(\"Measurement Outcomes\", fontsize=14)\n",
    "    plt.ylabel(\"Probability\", fontsize=14)\n",
    "    plt.ylim(0, 1)\n",
    "    plt.xticks([0, 1])\n",
    "    \n",
    "    # show it\n",
    "    plt.show()\n",
    "\n",
    "# make a histrogram of the output distribution\n",
    "histogram(dist)"
   ]
  },
  {
   "cell_type": "markdown",
   "metadata": {},
   "source": [
    "We want our output distribution to move towards either zero or one, depending on what label is assigned to that particular data point. To do this, we implement unitary evolution on the circuit, which corresponds to implementing another sequence of gates in our circuit."
   ]
  },
  {
   "cell_type": "markdown",
   "metadata": {},
   "source": [
    "## <p style=\"text-align: center;\"> 3. Unitary Evolution </p> "
   ]
  },
  {
   "cell_type": "markdown",
   "metadata": {},
   "source": [
    "After the classical data has been encoded (step 1) and prepared into the quantum system (step 2), step 3 is to perform unitary evolution on the quantum state representing the data. In the language of classical learning theory, this corresponds to implementing a layer of the neural network.\n",
    "\n",
    "In the quantum neural network case, we simply need to implement a sequence of parameterized gates."
   ]
  },
  {
   "cell_type": "markdown",
   "metadata": {},
   "source": [
    "First we write a function to easily implement such a unitary."
   ]
  },
  {
   "cell_type": "code",
   "execution_count": 16,
   "metadata": {},
   "outputs": [],
   "source": [
    "def unitary(angles):\n",
    "    \"\"\"Returns a circuit implementing the unitary Rz(theta0) P Rz(theta1) P Rz(theta2)\n",
    "    where thetea0 = angles[0], theta1 = angles[1], and theta2 = angles[2] and\n",
    "    P = Rx(pi / 2) is a pi / 2 pulse.\n",
    "    \"\"\"\n",
    "    return Program(\n",
    "        ops.RZ(angles[0], 0),\n",
    "        ops.RX(np.pi / 2, 0),\n",
    "        ops.RZ(angles[1], 0),\n",
    "        ops.RX(np.pi / 2, 0),\n",
    "        ops.RZ(angles[2], 0)\n",
    "    )"
   ]
  },
  {
   "cell_type": "markdown",
   "metadata": {},
   "source": [
    "Next we use it to add unitary evolution to our quantum neural network for some given angles."
   ]
  },
  {
   "cell_type": "code",
   "execution_count": 17,
   "metadata": {},
   "outputs": [],
   "source": [
    "# test angles\n",
    "angles = 2 * np.pi * np.random.rand(3)\n",
    "\n",
    "# pop off measurement\n",
    "qprog.pop()\n",
    "\n",
    "# append the unitary circuit to our quantum neural network program\n",
    "qprog += unitary(angles)\n",
    "qprog += [ops.MEASURE(0, creg[0])]"
   ]
  },
  {
   "cell_type": "code",
   "execution_count": 18,
   "metadata": {},
   "outputs": [
    {
     "name": "stdout",
     "output_type": "stream",
     "text": [
      "DEFGATE S:\n",
      "    1.0, 0.0\n",
      "    0.0, -1.0\n",
      "\n",
      "S 0\n",
      "DECLARE ro BIT[1]\n",
      "RZ(5.975955791599168) 0\n",
      "RX(pi/2) 0\n",
      "RZ(0.7898055544158503) 0\n",
      "RX(pi/2) 0\n",
      "RZ(3.6262412296857174) 0\n",
      "MEASURE 0 ro[0]\n",
      "\n"
     ]
    }
   ],
   "source": [
    "print(qprog)"
   ]
  },
  {
   "cell_type": "markdown",
   "metadata": {},
   "source": [
    "Now we'll run this new circuit with the unitary evolution implemented."
   ]
  },
  {
   "cell_type": "code",
   "execution_count": 19,
   "metadata": {},
   "outputs": [],
   "source": [
    "# run the quantum neural network program\n",
    "histogram(qvm.run(qprog, trials=shots))"
   ]
  },
  {
   "cell_type": "markdown",
   "metadata": {},
   "source": [
    "Now we want to use this unitary evolution to move our output probability towards the desired label. We'll suppose for a moment that this point is supposed to be mapped to the 0 output. We'll define an objective function ```obj_simple(angles)``` to capture the amount of 1 outputs, then we'll train over the angles in the unitary to minimize the objective."
   ]
  },
  {
   "cell_type": "code",
   "execution_count": 20,
   "metadata": {},
   "outputs": [],
   "source": [
    "def make_program(pangles, uangles):\n",
    "    \"\"\"Returns a pyquil program that prepares the state according\n",
    "    to pangles and applies the unitary according to uangles.\n",
    "    \"\"\"\n",
    "    # instantiate a program\n",
    "    qprog = Program()\n",
    "    creg = qprog.declare(\"ro\", memory_size=1)\n",
    "    \n",
    "    # define a gate in pyquil for the state preparation\n",
    "    qprog.defgate(\"S\", state_prep_mtx(pangles[0], pangles[1]))\n",
    "\n",
    "    # write the program(\n",
    "    qprog += [(\"S\", 0),\n",
    "             unitary(uangles),\n",
    "             ops.MEASURE(0, creg[0])]\n",
    "    \n",
    "    return qprog\n",
    "\n",
    "def obj_simple(angles, shots=1000, verbose=False):\n",
    "    \"\"\"Returns the number of zero outputs of a single training example.\"\"\"\n",
    "    # make the program\n",
    "    qprog = make_program([theta, phi], angles)\n",
    "    if verbose:\n",
    "        print(qprog)\n",
    "    dist = qvm.run(qprog, trials=shots)\n",
    "    obj = dist.count([1]) / shots\n",
    "    print(\"The current value of the objective function is:\", obj, end=\"\\r\")\n",
    "    return obj"
   ]
  },
  {
   "cell_type": "markdown",
   "metadata": {},
   "source": [
    "Now we'll minimize the objective function `obj_simple` by using the modifed `Powell` algorithm builtin to SciPy. The minimization here should take no more than 30 seconds."
   ]
  },
  {
   "cell_type": "code",
   "execution_count": 21,
   "metadata": {},
   "outputs": [
    {
     "name": "stdout",
     "output_type": "stream",
     "text": [
      "The current value of the objective function is: 0.043\r"
     ]
    }
   ],
   "source": [
    "out = minimize(obj_simple, x0=2 * np.pi * np.random.rand(3), method=\"Powell\")"
   ]
  },
  {
   "cell_type": "markdown",
   "metadata": {},
   "source": [
    "Now we can verify that the output distribution skews this point towards the \"zero bin.\""
   ]
  },
  {
   "cell_type": "code",
   "execution_count": 23,
   "metadata": {},
   "outputs": [
    {
     "data": {
      "image/png": "[encoded data removed]",
      "text/plain": [
       "<Figure size 432x288 with 1 Axes>"
      ]
     },
     "metadata": {},
     "output_type": "display_data"
    }
   ],
   "source": [
    "# do the circuit (neural network) with the optimal parameters\n",
    "%matplotlib inline\n",
    "opt_angles = out['x']\n",
    "qprog = make_program([theta, phi], opt_angles)\n",
    "\n",
    "# show the output distribution\n",
    "dist = qvm.run(qprog, trials=shots)\n",
    "histogram(dist)"
   ]
  },
  {
   "cell_type": "markdown",
   "metadata": {},
   "source": [
    "Indeed it does! Here we demonstrated that we can use our neural network to \"steer\" a point in a particular direction. The idea of training is to \"steer\" _all_ points in the desired direction. Before we train our quantum neural network, we first discuss the measurement process and it's importance in quantum neural network implementations."
   ]
  },
  {
   "cell_type": "markdown",
   "metadata": {},
   "source": [
    "## <p style=\"text-align: center;\"> 4. Measurement  </p> "
   ]
  },
  {
   "cell_type": "markdown",
   "metadata": {},
   "source": [
    "Measurement is used in our circuit above to translate from quantum to classical information. In other quantum neural networks, measurement can be used to introduce non-linearity.\n",
    "\n",
    "NISQAI treats measurements as both a way to keep circuit-depth low (for implementations on current/near-term quantum computers) as well as introduce non-linearity between layers of a network. Specifically, measuremnets lead to (intermediate) classical data. On a classical computer, we can introduce any non-linear activation function we wish. The new classical data from the output of the activation function can then be prepared into quantum form again via steps 1 and 2 (data encoding and state preparation).\n",
    "\n",
    "This intermediate classical post-processing is a trademark of NISQAI. It allows for:\n",
    "\n",
    "1. Short-depth circuits suitable for NISQ computers.\n",
    "1. Non-linearity between layers of a quantum neural network.\n",
    "1. Deep learning (many layers) with shallow circuits.\n",
    "\n",
    "In this simple binary classifier example, we'll restrict to just one layer of the neural network for simplicity."
   ]
  },
  {
   "cell_type": "markdown",
   "metadata": {},
   "source": [
    "## <p style=\"text-align: center;\"> 5. Training </p> "
   ]
  },
  {
   "cell_type": "markdown",
   "metadata": {},
   "source": [
    "We saw above that it's easy to steer one point towards the output we want to get. But training the quantum neural network involves training over all points in the training set. For this, we need to define a cost function that captures the total loss over the entire training set.\n",
    "\n",
    "To do this, define the _indicator function_ $I(z_i = \\hat{z}_i)$ to be 0 if $z_i = \\hat{z}_i$ and 1 otherwise. Here, $z_i$ is the exact label of the $i$th training data $(x_i, y_i)$ and $\\hat{z}_i$ is the prediction of this label by our neural network. (In code, we use the variables `labels` for $z_i$ and `predictions` for $\\hat{z}_i$.)\n",
    "\n",
    "To define the cost now, we simply sum over all points (say there are $M$ points) in the training data:\n",
    "\n",
    "\\begin{equation}\n",
    "C = \\sum_{i = 1}^{M} I(z_i = \\hat{z}_i)\n",
    "\\end{equation}\n",
    "\n",
    "Note that the cost $C$ depends on the unitary evolution $U$, i.e. $C = C(U)$, because the prediction $\\hat{z}_i$ depends on $U$. "
   ]
  },
  {
   "cell_type": "markdown",
   "metadata": {},
   "source": [
    "We now need to define a cost (objective) function ```obj(...)``` that takes into account all data in the training set. This function will encapsulate everything we've done for a single training point, but now for all of them."
   ]
  },
  {
   "cell_type": "code",
   "execution_count": 24,
   "metadata": {},
   "outputs": [],
   "source": [
    "# fraction of total data to use as training data\n",
    "train_frac = 0.7\n",
    "\n",
    "def obj(uangles):\n",
    "    \"\"\"Returns the objective function C defined above over all training data.\n",
    "    \n",
    "    Args:\n",
    "        uangles [type: list<float>]\n",
    "            the angles in the unitary evolution.\n",
    "\n",
    "    rtype: int\n",
    "    \"\"\"\n",
    "    # grab some training data from the overall data set\n",
    "    tpoints = int(train_frac * len(qdata))\n",
    "    tdata = qdata[:tpoints]\n",
    "    tlabels = labels[:tpoints]\n",
    "    \n",
    "    # initialize a variable to store the output predictions of the neural net\n",
    "    predictions = np.zeros_like(tlabels, dtype=int)\n",
    "    \n",
    "    # loop over all training data to get the predictions\n",
    "    for i, pangles in enumerate(tdata):\n",
    "        # write the program\n",
    "        qprog = make_program(pangles, uangles)\n",
    "        \n",
    "        # run the program\n",
    "        out = qvm.run(qprog, trials=1000)\n",
    "        \n",
    "        # get the output probabilities\n",
    "        p0 = out.count([0])\n",
    "        p1 = out.count([1])\n",
    "        \n",
    "        # take the prediction to be max(p0, p1)\n",
    "        if p0 >= p1:\n",
    "            predictions[i] = 0\n",
    "        else:\n",
    "            predictions[i] = 1\n",
    "        \n",
    "    # compute the difference of the labels and return the cost\n",
    "    cost = sum(abs(predictions - tlabels)) / tpoints\n",
    "    print(\"The current value of the cost function is:\", cost, end=\"\\r\")\n",
    "    return cost"
   ]
  },
  {
   "cell_type": "markdown",
   "metadata": {},
   "source": [
    "Now let's compute the objective function for some random test angles."
   ]
  },
  {
   "cell_type": "code",
   "execution_count": 25,
   "metadata": {},
   "outputs": [
    {
     "name": "stdout",
     "output_type": "stream",
     "text": [
      "The current value of the cost function is: 0.7535714285714286\r"
     ]
    }
   ],
   "source": [
    "# get some random angles\n",
    "angs = 2 * np.pi * np.random.rand(3)\n",
    "cost = obj(angs)"
   ]
  },
  {
   "cell_type": "markdown",
   "metadata": {},
   "source": [
    "We don't want just any random angles for our unitary evolution, however. We want to compute the optimal angles, which we can do by minimizing the cost function. Again we'll use the modified ```Powell``` algorithm for minimization.\n",
    "\n",
    "Training the neural network here will take more time than simply optimizing the output of a single point. On our computer, it takes around 15 seconds to evaluate the objective function for one set of angles. The `Powell` optimization algorithm generally takes on the order of 20-30 cost function evaluations--for us the optimization takes around 15 minutes on average. You can expect this training to take 15-20 minutes."
   ]
  },
  {
   "cell_type": "markdown",
   "metadata": {},
   "source": [
    "If you're in a hurry and don't want to wait for this training, we've saved a set of optimal angles from previous attempts. These angles are for a horizontal boundary $x = 0.5$ trained on 70/100 data points. They will only be optimal for the first set of random points generated by the given seed. We reiterate: _Only use these angles if you haven't changed anything in the notebook and only ran each cell once!_"
   ]
  },
  {
   "cell_type": "code",
   "execution_count": 26,
   "metadata": {},
   "outputs": [],
   "source": [
    "optimal_angles = [7.85082205, 0.01934754, 9.62729993]"
   ]
  },
  {
   "cell_type": "markdown",
   "metadata": {},
   "source": [
    "If you chose to skip the training, you should *not* execute the next two cells. Otherwise, continue through the notebook."
   ]
  },
  {
   "cell_type": "code",
   "execution_count": null,
   "metadata": {},
   "outputs": [],
   "source": [
    "# train the quantum neural network and time how long it takes\n",
    "start = time.time()\n",
    "out = minimize(fun=obj, x0=angs, method=\"Powell\")\n",
    "print(\"\\nTotal training runtime took {} minutes.\".format((time.time() - start) / 60))"
   ]
  },
  {
   "cell_type": "code",
   "execution_count": null,
   "metadata": {},
   "outputs": [],
   "source": [
    "# grab the optimal angles and minimal cost value\n",
    "optimal_angles = out['x']\n",
    "fval = out['fun']\n",
    "\n",
    "# print them out\n",
    "print(fval)\n",
    "print(optimal_angles)"
   ]
  },
  {
   "cell_type": "markdown",
   "metadata": {},
   "source": [
    "# <p style=\"text-align: center;\"> Results  </p> "
   ]
  },
  {
   "cell_type": "markdown",
   "metadata": {},
   "source": [
    "Now that we've trained on a subset of our data, we can see how the predictions do on the whole dataset.\n",
    "\n",
    "First, we'll write a function that performs this task."
   ]
  },
  {
   "cell_type": "code",
   "execution_count": 27,
   "metadata": {},
   "outputs": [],
   "source": [
    "def get_all_predictions(angles):\n",
    "    \"\"\"Returns a numpy array of all predictions.\"\"\"\n",
    "    # initialize a variable to store the output predictions of the neural net\n",
    "    zhats = np.zeros_like(labels, dtype=int)\n",
    "    \n",
    "    # loop over all data to get predictions\n",
    "    for i, pangles in enumerate(qdata):\n",
    "        # write the program\n",
    "        qprog = make_program(pangles, angles)\n",
    "        \n",
    "        # run the program\n",
    "        out = qvm.run(qprog, trials=1000)\n",
    "        \n",
    "        # get the output probabilities\n",
    "        p0 = out.count([0])\n",
    "        p1 = out.count([1])\n",
    "        \n",
    "        # take the prediction to be max(p0, p1)\n",
    "        if p0 >= p1:\n",
    "            zhats[i] = 0\n",
    "        else:\n",
    "            zhats[i] = 1\n",
    "    return zhats"
   ]
  },
  {
   "cell_type": "markdown",
   "metadata": {},
   "source": [
    "Then we'll call the function to get the results."
   ]
  },
  {
   "cell_type": "code",
   "execution_count": null,
   "metadata": {},
   "outputs": [],
   "source": [
    "# compute all the predictions of the quantum neural network\n",
    "predictions = get_all_predictions([0, 0, 0])#optimal_angles)"
   ]
  },
  {
   "cell_type": "markdown",
   "metadata": {},
   "source": [
    "We have now trained our neural network and classifeid all data points. Let's display the statistics below to see how our QNN performed."
   ]
  },
  {
   "cell_type": "code",
   "execution_count": null,
   "metadata": {},
   "outputs": [],
   "source": [
    "\n",
    "num = 0\n",
    "\n",
    "for a in np.linspace(0, 2 * np.pi, 50):\n",
    "    for b in np.linspace(0, 2 * np.pi, 50):\n",
    "        num += 1\n",
    "        \n",
    "        # compute all the predictions of the quantum neural network\n",
    "        predictions = get_all_predictions([a, b, 0])\n",
    "\n",
    "# # compute statistics of the QNN\n",
    "# ntrain = int(train_frac * npoints)\n",
    "# ncorrect = npoints - sum(abs(predictions - labels))\n",
    "# acc = ncorrect / npoints * 100\n",
    "\n",
    "# # print them out\n",
    "# print(\" Results of quantum neural network classification \".center(80, \"=\"))\n",
    "# print(\"Out of {} total data points:\".format(npoints))\n",
    "# print(\"The QNN was trained on {}% of the total data ({} training points).\".format(train_frac * 100, ntrain))\n",
    "# print(\"The QNN classified {} data points correctly ({}% accuracy).\".format(ncorrect, acc))\n",
    "# print(\"\".center(80, \"=\"))\n",
    "# % matplotlib inline\n",
    "# # plot the points, line y = x, and prediction\n",
    "# #plt.plot(xs, xs, '--k')\n",
    "        for i in range(npoints):\n",
    "            if predictions[i] == 0:\n",
    "                ckey = 'g'\n",
    "            else:\n",
    "                ckey = 'b'\n",
    "            plt.scatter(data[i, 0], data[i, 1], color=ckey)\n",
    "\n",
    "        plt.grid()\n",
    "        plt.title(\"a = %0.2f, b = %0.2f\" %(a, b), fontsize=16, fontweight=\"bold\")\n",
    "        plt.savefig(str(num) + \".pdf\", format=\"pdf\")"
   ]
  },
  {
   "cell_type": "markdown",
   "metadata": {},
   "source": [
    "## <p style=\"text-align: center;\"> Discussion of Results </p> "
   ]
  },
  {
   "cell_type": "markdown",
   "metadata": {},
   "source": [
    "How did your quantum neural network perform? If you followed through this notebook sequentially, you should have seen 100% accuracy in the predictions of the network. A saved plot of our results obtained by running this notebook is included below: "
   ]
  },
  {
   "cell_type": "markdown",
   "metadata": {},
   "source": [
    "![QNN Predictions](qnn-predictions.png)"
   ]
  },
  {
   "cell_type": "markdown",
   "metadata": {},
   "source": [
    "Here, the exact decision boundary (not the learned one) is shown in the plot, and data points are colored according to the quantum neural network predictions. Blue means predicted left of the boundary (0 bin), and green means predicted right of the boundary (1 bin). As can be seen in our example results, all data points are correctly classified."
   ]
  },
  {
   "cell_type": "markdown",
   "metadata": {},
   "source": [
    "# <p style=\"text-align: center;\"> Example Done with NISQAI  </p> "
   ]
  },
  {
   "cell_type": "markdown",
   "metadata": {},
   "source": [
    "The above example involved five steps to implementing a neural network on a quantum computer. While the steps aren't hard, programming each one for every particular example is tedious and time consuming. More time could be spent testing quantum neural networks if there were a library to implement all of these steps.\n",
    "\n",
    "This is where NISQAI comes in. NISQAI is to quantum machine learning what TensorFlow/pyTorch is to classical machine learning. Just like OpenFermion provides a library of code to simplify quantum chemistry on quantum computers, NISQAI provides a library of code to simplify neural networks and other machine learning algorithms on quantum computers.\n",
    "\n",
    "The above classifier example in NISQAI could be done with the following few lines of code. Here, we assume that ```classical_data``` exists in the program."
   ]
  },
  {
   "cell_type": "markdown",
   "metadata": {},
   "source": [
    "## Prototype NISQAI Code"
   ]
  },
  {
   "cell_type": "markdown",
   "metadata": {},
   "source": [
    "```\n",
    "# imports\n",
    "from nisqai import qnn\n",
    "\n",
    "# get a quantum neural network\n",
    "network = qnn.qnn(nodes=1, layers=1)\n",
    "\n",
    "# encode the classical data into quantum form\n",
    "network.encode(data=classical_data, scheme=qnn.encoding_schemes.SIMPLE_LINEAR)\n",
    "\n",
    "# add the unitary evolution\n",
    "network.add_unitary(qnn.ansatze.UNIVERSAL)\n",
    "\n",
    "# add measurements to the network\n",
    "network.add_measurements(basis=qnn.bases.Z)\n",
    "\n",
    "# do the training on 70% of the total data\n",
    "network.train(optimizer=\"Powell\", fraction=0.7)\n",
    "\n",
    "# test the neural network on all the data or on new input data\n",
    "statistics = network.classify()\n",
    "```"
   ]
  },
  {
   "cell_type": "markdown",
   "metadata": {},
   "source": [
    "These few lines of code show the power of NISQAI. One of it's greatest strengths is the flexibility to research other quantum neural network implementations, not just the one qubit quantum classifier."
   ]
  },
  {
   "cell_type": "markdown",
   "metadata": {},
   "source": [
    "## Features of NISQAI"
   ]
  },
  {
   "cell_type": "markdown",
   "metadata": {},
   "source": [
    "* Shatters domain barriers.\n",
    "    * Whether you're a machine learning researcher interested in quantum or a quantum researcher interested in machine learning, NISQAI is built for you.\n",
    "* Powerful builtins.\n",
    "    * Numerous prototypes of quantum neural network architectures, including methods for data encoding, state preparation, unitary evolution, measurement, and training.\n",
    "* Fully modular.\n",
    "    * For methods like `qnn.add_unitary(...)`, the user can write a function to specify whichever unitary ansatz is desired.\n",
    "* Loaded with examples.\n",
    "    * Many instructive code snippets and notebooks to get you started in quantum machine learning.\n",
    "* Open-source.\n",
    "    * NISQAI is currently under development with expected release in early 2019. After this, NISQAI will be free and open-source. Always.\n",
    "* Cross platform.\n",
    "    * NISQAI works for Windows, Mac, and Linux.\n",
    "* Python/Matlab interfaces.\n",
    "    * Two of the most popular languages for quantum computing and machine learning researchers."
   ]
  },
  {
   "cell_type": "markdown",
   "metadata": {},
   "source": [
    "# Conclusions"
   ]
  },
  {
   "cell_type": "markdown",
   "metadata": {},
   "source": [
    "In this example, we've seen that a quantum neural network is able to successfully classify classical data in $\\mathbb{R}^2$. The qubit encoding strategy is able to write two bits of classical information into one bit of quantum information. Additionally, the state preparation circuit for the qubit encoding is short-depth, particularly useful for NISQ computers. We've demonstrated how to train a quantum neural network using the modified Powell algorithm on a simple example. We've also discussed how the NISQAI library greatly simplifies quantum neural network implementations."
   ]
  },
  {
   "cell_type": "markdown",
   "metadata": {},
   "source": [
    "# Acknowledgements"
   ]
  },
  {
   "cell_type": "markdown",
   "metadata": {},
   "source": [
    "The development of NISQAI is supported by the [unitary.fund](http://unitary.fund/). We thank [Will Zeng](https://twitter.com/wjzeng) for creating and running this program, as well as [John Hering](https://twitter.com/johnhering), Jeff Cordova, Nima Alidoust, and [PLOS](https://www.plos.org/) for sponsoring it."
   ]
  }
 ],
 "metadata": {
  "kernelspec": {
   "display_name": "Python 3",
   "language": "python",
   "name": "python3"
  },
  "language_info": {
   "codemirror_mode": {
    "name": "ipython",
    "version": 3
   },
   "file_extension": ".py",
   "mimetype": "text/x-python",
   "name": "python",
   "nbconvert_exporter": "python",
   "pygments_lexer": "ipython3",
   "version": "3.6.8"
  }
 },
 "nbformat": 4,
 "nbformat_minor": 2
}
